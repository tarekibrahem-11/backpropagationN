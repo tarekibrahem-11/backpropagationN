{
 "cells": [
  {
   "cell_type": "code",
   "execution_count": 9,
   "id": "5f00e593",
   "metadata": {},
   "outputs": [],
   "source": [
    "import numpy as np\n",
    "\n",
    "def sigmoid(x):\n",
    "    return 1 / (1 + np.exp(-x))\n",
    "\n",
    "\n",
    "def sigmoid_derivative(x):\n",
    "    return x * (1 - x)"
   ]
  },
  {
   "cell_type": "code",
   "execution_count": 10,
   "id": "53f58de8",
   "metadata": {},
   "outputs": [],
   "source": [
    "inputs = np.array([0.05, 0.10])\n",
    "targets = np.array([0.01, 0.99])\n",
    "\n",
    "weights_input_hidden = np.array([[0.15, 0.20], [0.25, 0.30]])\n",
    "weights_hidden_output = np.array([[0.40, 0.45], [0.50, 0.55]])\n",
    "\n",
    "bias_hidden = np.array([0.35, 0.35])\n",
    "bias_output = np.array([0.60, 0.60])"
   ]
  },
  {
   "cell_type": "code",
   "execution_count": 11,
   "id": "b3b802c0",
   "metadata": {},
   "outputs": [],
   "source": [
    "hidden_input = np.dot(inputs, weights_input_hidden) + bias_hidden\n",
    "hidden_output = sigmoid(hidden_input)\n",
    "\n",
    "final_input = np.dot(hidden_output, weights_hidden_output) + bias_output\n",
    "final_output = sigmoid(final_input)"
   ]
  },
  {
   "cell_type": "code",
   "execution_count": 12,
   "id": "da1e018b",
   "metadata": {},
   "outputs": [],
   "source": [
    "error = 0.5 * ((targets - final_output) ** 2)"
   ]
  },
  {
   "cell_type": "code",
   "execution_count": 13,
   "id": "d9faf426",
   "metadata": {},
   "outputs": [],
   "source": [
    "output_error = final_output - targets\n",
    "output_delta = output_error * sigmoid_derivative(final_output)\n",
    "\n",
    "hidden_error = np.dot(output_delta, weights_hidden_output.T)\n",
    "hidden_delta = hidden_error * sigmoid_derivative(hidden_output)"
   ]
  },
  {
   "cell_type": "code",
   "execution_count": 14,
   "id": "f5e7c101",
   "metadata": {},
   "outputs": [],
   "source": [
    "learning_rate = 0.5\n",
    "weights_hidden_output -= learning_rate * np.outer(hidden_output, output_delta)\n",
    "weights_input_hidden -= learning_rate * np.outer(inputs, hidden_delta)\n",
    "\n",
    "bias_output -= learning_rate * output_delta\n",
    "bias_hidden -= learning_rate * hidden_delta"
   ]
  },
  {
   "cell_type": "code",
   "execution_count": 8,
   "id": "f3963402",
   "metadata": {},
   "outputs": [
    {
     "name": "stdout",
     "output_type": "stream",
     "text": [
      "Final Output: [0.75693192 0.76771788]\n",
      "Updated Weights (Hidden to Output): [[0.35915207 0.4617822 ]\n",
      " [0.45902792 0.56181801]]\n",
      "Updated Weights (Input to Hidden): [[0.14977621 0.19971768]\n",
      " [0.24955242 0.29943536]]\n",
      "Updated Biases (Hidden Layer): [0.34552416 0.34435355]\n",
      "Updated Biases (Output Layer): [0.5312875  0.61981947]\n"
     ]
    }
   ],
   "source": [
    "print(\"Final Output:\", final_output)\n",
    "print(\"Updated Weights (Hidden to Output):\", weights_hidden_output)\n",
    "print(\"Updated Weights (Input to Hidden):\", weights_input_hidden)\n",
    "print(\"Updated Biases (Hidden Layer):\", bias_hidden)\n",
    "print(\"Updated Biases (Output Layer):\", bias_output)"
   ]
  },
  {
   "cell_type": "code",
   "execution_count": null,
   "id": "ebc26536",
   "metadata": {},
   "outputs": [],
   "source": []
  }
 ],
 "metadata": {
  "kernelspec": {
   "display_name": "Python 3 (ipykernel)",
   "language": "python",
   "name": "python3"
  },
  "language_info": {
   "codemirror_mode": {
    "name": "ipython",
    "version": 3
   },
   "file_extension": ".py",
   "mimetype": "text/x-python",
   "name": "python",
   "nbconvert_exporter": "python",
   "pygments_lexer": "ipython3",
   "version": "3.11.5"
  }
 },
 "nbformat": 4,
 "nbformat_minor": 5
}
